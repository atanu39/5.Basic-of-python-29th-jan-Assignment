{
 "cells": [
  {
   "cell_type": "markdown",
   "id": "b84487fc-942e-4a9c-b9ad-3c371d635c5e",
   "metadata": {},
   "source": [
    "# Q1.Who developed Python programming language?"
   ]
  },
  {
   "cell_type": "markdown",
   "id": "1f5f38a3-d188-45f6-bd2a-fcfe9cc45392",
   "metadata": {},
   "source": [
    "# Ans :"
   ]
  },
  {
   "cell_type": "markdown",
   "id": "2c722d61-ec99-44aa-9b48-cabd43dad4ca",
   "metadata": {},
   "source": [
    "## Python was created by Guido van Rossum in the late 1980s while he was working at the National Research Institute for Mathematics and Computer Science (CWI) in the Netherlands. He released the first version of Python, version 0.9.0, in February 1991. Van Rossum continued to oversee Python's development for many years, and he remains involved in the Python community today, although he stepped down as the \"Benevolent Dictator For Life\" (BDFL) of the language in 2018. Today, Python is maintained by the Python Software Foundation, a non-profit organization that oversees its development and promotes its use."
   ]
  },
  {
   "cell_type": "markdown",
   "id": "b5ce9941-800b-4921-b23b-1f4542989335",
   "metadata": {},
   "source": [
    "# Q2.Which type of programming does python support?"
   ]
  },
  {
   "cell_type": "markdown",
   "id": "f074fabf-c7fa-4ea5-a84b-089dfabfd407",
   "metadata": {},
   "source": [
    "# Ans :"
   ]
  },
  {
   "cell_type": "markdown",
   "id": "fd7e19f5-a460-4cc6-99d0-03b463527eda",
   "metadata": {},
   "source": [
    "## Python is a high-level, interpreted programming language that supports a variety of programming paradigms, including:\n",
    "\n",
    "### Procedural programming\n",
    "### Object-oriented programming (OOP)\n",
    "### Functional programming\n",
    "### Aspect-oriented programming\n",
    "## Python is a very versatile language that can be used for a wide range of applications, including web development, scientific computing, artificial intelligence, machine learning, data analysis, and more. Its flexibility and ease of use make it a popular choice for both beginners and experienced developers."
   ]
  },
  {
   "cell_type": "markdown",
   "id": "d3270ea2-8f05-40dc-ba11-adc6932c776d",
   "metadata": {},
   "source": [
    "# Q3.Is python case sensitive when dealing with identifiers ?"
   ]
  },
  {
   "cell_type": "markdown",
   "id": "d8aaefdb-8420-455a-82b5-37a879bbfae6",
   "metadata": {},
   "source": [
    "## Ans :"
   ]
  },
  {
   "cell_type": "markdown",
   "id": "ba178997-8db3-4a5f-a234-b394853d7dd8",
   "metadata": {},
   "source": [
    "## Yes, Python is case sensitive when dealing with identifiers. This means that identifiers with different capitalization are treated as distinct and separate entities.\n",
    "\n",
    "## For example, the variable names myVariable, myvariable, and MyVariable would all be considered different identifiers and could be used to store different values in a Python program.\n",
    "\n",
    "## It is important to note that this applies not only to variable names, but to all identifiers in Python, including function names, class names, and module names. It is considered good practice to use consistent naming conventions in your code to avoid confusion and errors caused by case sensitivity. "
   ]
  },
  {
   "cell_type": "markdown",
   "id": "7a47c8de-cbd3-48d3-84f5-502400cf521d",
   "metadata": {},
   "source": [
    "# Q4.What is the correct extension of the python file ?"
   ]
  },
  {
   "cell_type": "markdown",
   "id": "379c37c0-474f-4245-9142-8c8202c1304e",
   "metadata": {},
   "source": [
    "# Ans :"
   ]
  },
  {
   "cell_type": "markdown",
   "id": "c52bfa71-baa8-4581-8b57-87d2963b6967",
   "metadata": {},
   "source": [
    "## As every Programming Language has an extension, similarly Python has an extension called (.py). All Python files are stored in this extension, and you could also convert scripts into this extension."
   ]
  },
  {
   "cell_type": "markdown",
   "id": "b64bcf27-f885-464a-aebe-9f4a37750d4f",
   "metadata": {},
   "source": [
    "# Q5.Is python code is compiled or interpreted?"
   ]
  },
  {
   "cell_type": "markdown",
   "id": "ff2d4b7b-2c71-494e-9da0-1dbd750ddbb3",
   "metadata": {},
   "source": [
    "# Ans :"
   ]
  },
  {
   "cell_type": "markdown",
   "id": "0d19e626-a665-4227-a71f-ae7f9d774a10",
   "metadata": {},
   "source": [
    "## Python is Both Compiled as well as Interpreted\n",
    "## \"Python is an interpreted language\", is the most common saying, which is also written in various books, but the hidden fact is Python is both compiled as well as an interpreted language. This means when we run a python code, it is first compiled and then interpreted line by line. The compilation part is mostly hidden from the user. While running the code, Python generates a byte code internally, this byte code is then converted using a python virtual machine (p.v.m) to generate the output."
   ]
  },
  {
   "cell_type": "markdown",
   "id": "22d2cf16-1b4e-4a70-9578-424b026994bf",
   "metadata": {},
   "source": [
    "# Q6.Name a few blocks of code used to define python language."
   ]
  },
  {
   "cell_type": "markdown",
   "id": "d355f9d6-6962-46eb-a03c-cebe630ba74f",
   "metadata": {},
   "source": [
    "# Ans :"
   ]
  },
  {
   "cell_type": "markdown",
   "id": "35545e08-0fce-42cf-b10a-967dea2930d7",
   "metadata": {},
   "source": [
    "## A Python program is constructed from code blocks. A block is a piece of Python program text that is executed as a unit. The following are blocks: a module, a function body, and a class definition. Each command typed interactively is a block. A script file (a file given as standard input to the interpreter or specified as a command line argument to the interpreter) is a code block. A script command (a command specified on the interpreter command line with the -c option) is a code block. A module run as a top level script (as module __main__) from the command line using a -m argument is also a code block. The string argument passed to the built-in functions eval() and exec() is a code block."
   ]
  },
  {
   "cell_type": "markdown",
   "id": "6b9e6fd3-d3f1-4dc1-bedb-e1746c02d1bb",
   "metadata": {},
   "source": [
    "# Q7.State a character used to give a single line comment in Python."
   ]
  },
  {
   "cell_type": "markdown",
   "id": "eb7de9fc-bf19-4a65-96ee-53fa49ddd44b",
   "metadata": {},
   "source": [
    "# Ans:"
   ]
  },
  {
   "cell_type": "markdown",
   "id": "162478f5-db4a-4933-b1c1-6f40ae3a3bf1",
   "metadata": {},
   "source": [
    "## In Python, we use the hash symbol # to write a single-line comment."
   ]
  },
  {
   "cell_type": "markdown",
   "id": "da5ae31c-dd4e-4efd-94c0-60429d6cf1d3",
   "metadata": {},
   "source": [
    "# Q8.Mention the function which can help us to find the version of python that we are currently working on."
   ]
  },
  {
   "cell_type": "markdown",
   "id": "3de6e99f-eab5-438e-98a4-c852b19581b0",
   "metadata": {},
   "source": [
    "# Ans :"
   ]
  },
  {
   "cell_type": "markdown",
   "id": "c6bf252c-8093-4e6f-b490-837fe4219b66",
   "metadata": {},
   "source": [
    "## The function sys.version can help us to find the version of python that we are currently working on. It also contains information on the build number and compiler used. For example, 3.5.2, 2.7.3 etc. this function also returns the current date, time, bits etc along with the version."
   ]
  },
  {
   "cell_type": "markdown",
   "id": "f0cba74c-c597-4e54-8f72-0c3e33be967a",
   "metadata": {},
   "source": [
    "# Q9. Python supports the creation of anonymous functions at runtime, using a construct called __________."
   ]
  },
  {
   "cell_type": "markdown",
   "id": "2fbc042f-5a14-4112-9fac-377ab6d64f9c",
   "metadata": {},
   "source": [
    "# Ans:"
   ]
  },
  {
   "cell_type": "markdown",
   "id": "6a81c9bc-fb65-47c6-96e5-94dc5191b561",
   "metadata": {},
   "source": [
    "## Python supports the creation of anonymous functions (i.e. functions that are not bound to a name) at runtime, using a construct called lambda."
   ]
  },
  {
   "cell_type": "markdown",
   "id": "c9457b7c-c845-4d76-9da0-5d03682a68bf",
   "metadata": {},
   "source": [
    "# Q10.What does PIP stands for python ?"
   ]
  },
  {
   "cell_type": "markdown",
   "id": "43e7eafd-ffa9-40af-b139-bd3709b70cb7",
   "metadata": {},
   "source": [
    "# Ans :"
   ]
  },
  {
   "cell_type": "markdown",
   "id": "9adf6455-1b53-436c-9150-065e2087b168",
   "metadata": {},
   "source": [
    "## Pip is a package manager for Python that allows you to install additional libraries and packages that are not part of the standard Python library such as the ones found in the Python Package Index. It is a replacement for an easy install. If your version of Python is 2.7.9 (or greater) or Python 3.4 (or greater), then PIP comes pre-installed with Python, in other cases, you will have to install it separately."
   ]
  },
  {
   "cell_type": "markdown",
   "id": "08de8be5-c926-4783-b998-d7f59f57de44",
   "metadata": {},
   "source": [
    "# Q11.Mention a few built in function in Python ."
   ]
  },
  {
   "cell_type": "markdown",
   "id": "508feb37-c9ea-409d-ae29-9da361e38e74",
   "metadata": {},
   "source": [
    "# Ans :"
   ]
  },
  {
   "cell_type": "markdown",
   "id": "6d3cad95-d00b-46e3-b386-3fef609e5afa",
   "metadata": {},
   "source": [
    "## The Python built-in functions are defined as the functions whose functionality is pre-defined in Python. The python interpreter has several functions that are always present for use. These functions are known as Built-in Functions. There are several built-in functions in Python which are listed below:\n",
    "## abs()\tReturns the absolute value of a number\n",
    "## all()\tReturns True if all items in an iterable object are true\n",
    "## any()\tReturns True if any item in an iterable object is true\n",
    "## ascii()\tReturns a readable version of an object. Replaces none-ascii characters with escape character\n",
    "## bin()\tReturns the binary version of a number\n",
    "## bool()\tReturns the boolean value of the specified object\n",
    "## bytearray()\tReturns an array of bytes\n",
    "## bytes()\tReturns a bytes object\n",
    "## callable()\tReturns True if the specified object is callable, otherwise False\n",
    "## chr()\tReturns a character from the specified Unicode code.\n",
    "## classmethod()\tConverts a method into a class method\n",
    "## compile()\tReturns the specified source as an object, ready to be executed\n",
    "## complex()\tReturns a complex number\n",
    "## delattr()\tDeletes the specified attribute (property or method) from the specified object\n",
    "## dict()\tReturns a dictionary (Array)\n",
    "## dir()\tReturns a list of the specified object's properties and methods\n",
    "## divmod()\tReturns the quotient and the remainder when argument1 is divided by argument2\n",
    "## enumerate()\tTakes a collection (e.g. a tuple) and returns it as an enumerate object\n",
    "## eval()\tEvaluates and executes an expression\n",
    "## exec()\tExecutes the specified code (or object)\n",
    "## filter()\tUse a filter function to exclude items in an iterable object\n",
    "## float()\tReturns a floating point number\n",
    "## format()\tFormats a specified value\n",
    "## frozenset()\tReturns a frozenset object\n",
    "## getattr()\tReturns the value of the specified attribute (property or method)\n",
    "## globals()\tReturns the current global symbol table as a dictionary\n",
    "## hasattr()\tReturns True if the specified object has the specified attribute (property/method)\n",
    "## hash()\tReturns the hash value of a specified object\n",
    "## help()\tExecutes the built-in help system\n",
    "## hex()\tConverts a number into a hexadecimal value\n",
    "## id()\tReturns the id of an object\n",
    "## input()\tAllowing user input\n",
    "## int()\tReturns an integer number\n",
    "## isinstance()\tReturns True if a specified object is an instance of a specified object\n",
    "## issubclass()\tReturns True if a specified class is a subclass of a specified object\n",
    "## iter()\tReturns an iterator object\n",
    "## len()\tReturns the length of an object\n",
    "## list()\tReturns a list\n",
    "## locals()\tReturns an updated dictionary of the current local symbol table\n",
    "## map()\tReturns the specified iterator with the specified function applied to each item\n",
    "## max()\tReturns the largest item in an iterable\n",
    "## memoryview()\tReturns a memory view object\n",
    "## min()\tReturns the smallest item in an iterable\n",
    "## next()\tReturns the next item in an iterable\n",
    "## object()\tReturns a new object\n",
    "## oct()\tConverts a number into an octal\n",
    "## open()\tOpens a file and returns a file object\n",
    "## ord()\tConvert an integer representing the Unicode of the specified character\n",
    "## pow()\tReturns the value of x to the power of y\n",
    "## print()\tPrints to the standard output device\n",
    "## property()\tGets, sets, deletes a property\n",
    "## range()\tReturns a sequence of numbers, starting from 0 and increments by 1 (by default)\n",
    "## repr()\tReturns a readable version of an object\n",
    "## reversed()\tReturns a reversed iterator\n",
    "## round()\tRounds a numbers\n",
    "## set()\tReturns a new set object\n",
    "## setattr()\tSets an attribute (property/method) of an object\n",
    "## slice()\tReturns a slice object\n",
    "## sorted()\tReturns a sorted list\n",
    "## staticmethod()\tConverts a method into a static method\n",
    "## str()\tReturns a string object\n",
    "## sum()\tSums the items of an iterator\n",
    "## super()\tReturns an object that represents the parent class\n",
    "## tuple()\tReturns a tuple\n",
    "## type()\tReturns the type of an object\n",
    "## vars()\tReturns the __dict__ property of an object\n",
    "## zip()\tReturns an iterator, from two or more iterators  etc\n"
   ]
  },
  {
   "cell_type": "markdown",
   "id": "06f91b22-31ed-4af9-b949-ce861fbaced3",
   "metadata": {},
   "source": [
    "# Q12.What is the maximum possible length of an identifier in Python?"
   ]
  },
  {
   "cell_type": "markdown",
   "id": "121fd813-824e-4dfd-bd3b-2e077a273cb6",
   "metadata": {},
   "source": [
    "# Ans :"
   ]
  },
  {
   "cell_type": "markdown",
   "id": "c9a7c2c6-9a6d-4deb-9007-6a375822ef52",
   "metadata": {},
   "source": [
    "## An identifier can have a maximum length of 79 characters in Python."
   ]
  },
  {
   "cell_type": "markdown",
   "id": "65889fb3-2f55-477e-a3a6-b458e9d00abd",
   "metadata": {},
   "source": [
    "# Q13.What are the benefits of using python ?"
   ]
  },
  {
   "cell_type": "markdown",
   "id": "a06bfa87-de4b-47c1-80f6-30f7ef569c66",
   "metadata": {},
   "source": [
    "# Ans :"
   ]
  },
  {
   "cell_type": "markdown",
   "id": "6185b0d3-fb9e-4540-a954-d336f4ec9b20",
   "metadata": {},
   "source": [
    "##  Python is a high-level, interpreted, and general-purpose dynamic programming language that focuses on code readability. It generally has small programs when compared to Java and C. It was founded in 1991 by developer Guido Van Rossum. Python ranks among the most popular and fastest-growing languages in the world. Python is a powerful, flexible, and easy-to-use language. In addition, the python community is very active. It is used in many organizations as it supports multiple programming paradigms. It also performs automatic memory management.\n",
    "\n",
    "# Advantages: \n",
    "## *Presence of third-party modules \n",
    "## *Extensive support libraries(NumPy for numerical calculations, Pandas for data analytics, etc.) \n",
    "## *Open source and large active community base \n",
    "## *Versatile, Easy to read, learn and write\n",
    "## *User-friendly data structures \n",
    "## *High-level language \n",
    "## *Dynamically typed language(No need to mention data type based on the value assigned, it takes data type) \n",
    "## *Object-Oriented and Procedural  Programming language\n",
    "## *Portable and Interactive\n",
    "## *deal for prototypes – provide more functionality with less coding\n",
    "## *Highly Efficient(Python’s clean object-oriented design provides enhanced process control, and the language is equipped with excellent text ## *processing and integration capabilities, as well as its own unit testing framework, which makes it more efficient.)\n",
    "## *Internet of Things(IoT) Opportunities\n",
    "## *Interpreted Language\n",
    "## *Portable across Operating systems\n",
    "\n",
    "# Applications: \n",
    "## *GUI-based desktop applications\n",
    "## *Graphic design, image processing applications, Games, and Scientific/ computational Applications\n",
    "## *Web frameworks and applications \n",
    "## *Enterprise and Business applications \n",
    "## *Operating Systems \n",
    "## *Education\n",
    "## *Database Access\n",
    "## *Language Development \n",
    "## *Prototyping \n",
    "## *Software Development\n",
    "## *Data Science and Machine Learning\n",
    "## *Scripting"
   ]
  },
  {
   "cell_type": "markdown",
   "id": "0801bec0-05c0-4b72-91c4-9b5561dc0a27",
   "metadata": {},
   "source": [
    "# Q14.How is memory managed in Python ?"
   ]
  },
  {
   "cell_type": "markdown",
   "id": "0fbcc6bc-4d39-4fea-87e2-c35396ebfff8",
   "metadata": {},
   "source": [
    "# Ans :"
   ]
  },
  {
   "cell_type": "markdown",
   "id": "d6df76f8-8146-4b6c-9c75-04c9d64ff4b2",
   "metadata": {},
   "source": [
    "## According to the Python memory management documentation, Python has a private heap that stores our program’s objects and data structures. Python memory manager takes care of the bulk of the memory management work and allows us to concentrate on our code.\n",
    "\n",
    "## Types of memory allocation\n",
    "## There are two types of memory allocation in Python, static and dynamic.\n",
    "\n",
    "## 1. Static memory\n",
    "\n",
    "## The stack data structure provides static memory allocation, meaning the variables are in the stack memory. Statically assigned variables, as the name implies, are permanent; this means that they must be allocated in advance and persist for the duration of the program. Another point to remember is that we cannot reuse the memory allocated in the stack memory. Therefore, memory reusability is not possible.\n",
    " \n",
    "## 2. Dynamic memory\n",
    "\n",
    "## The dynamic memory allocation uses heap data structures in its implementation, implying that variables are in the heap memory. As the name suggests, dynamically allocated variables are not permanent and can be changed while a program is running. Additionally, allotted memory can be relinquished and reused. However, it takes longer to complete because dynamic memory allocation occurs during program execution. Furthermore, after utilizing the allocated memory, we must release it. Otherwise, problems such as memory leaks might arise."
   ]
  },
  {
   "cell_type": "markdown",
   "id": "acec23a2-2188-4218-a989-a5e30e9da8b7",
   "metadata": {},
   "source": [
    "# Q15.How to install python on windows and set path variables ?"
   ]
  },
  {
   "cell_type": "markdown",
   "id": "8157301a-45f8-47a2-a5b5-67563849fa14",
   "metadata": {},
   "source": [
    "# Ans :"
   ]
  },
  {
   "cell_type": "markdown",
   "id": "b4653f9d-ff5e-417a-9d9e-377d866ee0ae",
   "metadata": {},
   "source": [
    "## Installing Python on Windows and setting up path variables can be done by following these steps:\n",
    "\n",
    "## *1.Download the Python installer from the official website https://www.python.org/downloads/windows/.\n",
    "## *2.Run the installer and select the option \"Add Python x.x to PATH\" during installation.\n",
    "## *3.Follow the prompts in the installer to complete the installation process.\n",
    "## *4.Once the installation is complete, open a command prompt and type \"python\" to verify that it is installed correctly.\n",
    "\n",
    "## To set up the path variables, follow these steps:\n",
    "\n",
    "## *Right-click on the \"This PC\" or \"My Computer\" icon and select \"Properties\".\n",
    "## *Click on \"Advanced system settings\" on the left side of the window.\n",
    "## *Click on the \"Environment Variables\" button at the bottom of the \"Advanced\" tab.\n",
    "## *Under \"System Variables\", scroll down and find the \"Path\" variable, then click \"Edit\".\n",
    "## *Click \"New\" and add the path to your Python installation, which is typically \"C:\\Pythonxx\" where xx is the version number (e.g. \"C:\\Python38\").\n",
    "## *Click \"OK\" to close all the windows.\n",
    "\n",
    "## Now we should be able to run Python from any command prompt by simply typing \"python\" and pressing Enter."
   ]
  },
  {
   "cell_type": "markdown",
   "id": "70e20500-e030-425c-9288-3f9391a1c2a8",
   "metadata": {},
   "source": [
    "# Q16.Is indentation required in Python ?"
   ]
  },
  {
   "cell_type": "markdown",
   "id": "2c8a3187-7f8c-4b60-b666-5d89f6ba606a",
   "metadata": {},
   "source": [
    "# Ans :"
   ]
  },
  {
   "cell_type": "markdown",
   "id": "d9a7a333-9bf9-4ff2-a3b8-0556aecfef34",
   "metadata": {},
   "source": [
    "## The indentation in Python is very important.Python uses indentation to indicate a block of code.Python will give you an error if you skip the indentation .\n",
    "\n",
    "## Example"
   ]
  },
  {
   "cell_type": "code",
   "execution_count": 4,
   "id": "a2207bf8-9b8e-4a5c-87a6-1c4ae8406cb2",
   "metadata": {},
   "outputs": [
    {
     "ename": "IndentationError",
     "evalue": "expected an indented block after 'if' statement on line 1 (3793329317.py, line 2)",
     "output_type": "error",
     "traceback": [
      "\u001b[0;36m  Cell \u001b[0;32mIn[4], line 2\u001b[0;36m\u001b[0m\n\u001b[0;31m    print(\"Five is greater than two!\")\u001b[0m\n\u001b[0m    ^\u001b[0m\n\u001b[0;31mIndentationError\u001b[0m\u001b[0;31m:\u001b[0m expected an indented block after 'if' statement on line 1\n"
     ]
    }
   ],
   "source": [
    "if 5 > 2:      \n",
    "print(\"Five is greater than two!\")"
   ]
  },
  {
   "cell_type": "markdown",
   "id": "290e948c-c6f8-4796-81fd-ed14bc108542",
   "metadata": {},
   "source": [
    "## The number of spaces is up to you as a programmer, but it has to be at least one."
   ]
  },
  {
   "cell_type": "code",
   "execution_count": 8,
   "id": "7d4a4189-c75a-4ca5-8c8d-e4fae8c654a2",
   "metadata": {},
   "outputs": [
    {
     "name": "stdout",
     "output_type": "stream",
     "text": [
      "Five is greater than two!\n"
     ]
    }
   ],
   "source": [
    "if 5 > 2:\n",
    "    print(\"Five is greater than two!\")"
   ]
  },
  {
   "cell_type": "code",
   "execution_count": null,
   "id": "bc6ed3d6-19cb-48f4-b294-36d5d086ffe3",
   "metadata": {},
   "outputs": [],
   "source": []
  }
 ],
 "metadata": {
  "kernelspec": {
   "display_name": "Python 3 (ipykernel)",
   "language": "python",
   "name": "python3"
  },
  "language_info": {
   "codemirror_mode": {
    "name": "ipython",
    "version": 3
   },
   "file_extension": ".py",
   "mimetype": "text/x-python",
   "name": "python",
   "nbconvert_exporter": "python",
   "pygments_lexer": "ipython3",
   "version": "3.10.8"
  }
 },
 "nbformat": 4,
 "nbformat_minor": 5
}
